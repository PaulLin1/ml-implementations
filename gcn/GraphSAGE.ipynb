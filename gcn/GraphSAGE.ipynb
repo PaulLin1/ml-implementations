{
 "cells": [
  {
   "cell_type": "code",
   "execution_count": 1,
   "id": "b2275cd5-bceb-4579-8140-369991bd42a5",
   "metadata": {},
   "outputs": [],
   "source": [
    "import torch\n",
    "from torch_geometric.datasets import CoraFull\n",
    "from torch_geometric.data import DataLoader\n",
    "import aggregators"
   ]
  },
  {
   "cell_type": "code",
   "execution_count": 2,
   "id": "b2221090-4aca-49b3-a16b-ff9d85aec18e",
   "metadata": {},
   "outputs": [
    {
     "name": "stderr",
     "output_type": "stream",
     "text": [
      "Downloading https://github.com/abojchevski/graph2gauss/raw/master/data/cora.npz\n",
      "Processing...\n",
      "Done!\n",
      "/home/paul/Documents/dev/ml-implementations/venv/lib/python3.12/site-packages/torch_geometric/deprecation.py:26: UserWarning: 'data.DataLoader' is deprecated, use 'loader.DataLoader' instead\n",
      "  warnings.warn(out)\n"
     ]
    }
   ],
   "source": [
    "dataset = CoraFull(root=\"cora\")\n",
    "data = dataset[0]\n",
    "loader = DataLoader(dataset, batch_size=32, shuffle=True)"
   ]
  },
  {
   "cell_type": "code",
   "execution_count": 4,
   "id": "0d38a6ff-5b1f-408b-a8e1-cf61a78bcf3a",
   "metadata": {},
   "outputs": [
    {
     "name": "stdout",
     "output_type": "stream",
     "text": [
      "aggregators.py\tcora  GraphSAGE.ipynb  main.py\t__pycache__\n"
     ]
    }
   ],
   "source": [
    "class MeanAggregator(torch.nn.Module):\n",
    "    def __init__(self, in_features, out_features):\n",
    "        super(MeanAggregator, self).__init__()\n",
    "        self.in_features = in_features\n",
    "        self.out_features = out_features\n",
    "\n",
    "        self.w = torch.nn.Parameter(torch.empty(2 * in_features, out_features))\n",
    "        torch.nn.init.xavier_uniform_(self.w)\n",
    "\n",
    "    def forward(self, input):\n",
    "        x, sampled_neighbors = input\n",
    "        neighbors_message = torch.mean(sampled_neighbors, dim=0)\n",
    "        message = torch.concat((x, neighbors_message), 0)\n",
    "        weighted_message = torch.matmul(message, self.w) \n",
    "        return torch.nn.functional.relu(weighted_message)\n"
   ]
  },
  {
   "cell_type": "code",
   "execution_count": null,
   "id": "5ec65953-f9ac-4c92-9a78-5463b6d624b5",
   "metadata": {},
   "outputs": [],
   "source": [
    "layer = aggregators.MeanAggregator(len(data.x[0]), 4)\n",
    "node = data.x[0]\n",
    "node_neighbors = torch.stack([data.x[v] for u, v in zip(data.edge_index[0], data.edge_index[1]) if data.edge_index[0][u] == 0])\n",
    "print(layer((node, node_neighbors)))"
   ]
  }
 ],
 "metadata": {
  "kernelspec": {
   "display_name": "Python 3 (ipykernel)",
   "language": "python",
   "name": "python3"
  },
  "language_info": {
   "codemirror_mode": {
    "name": "ipython",
    "version": 3
   },
   "file_extension": ".py",
   "mimetype": "text/x-python",
   "name": "python",
   "nbconvert_exporter": "python",
   "pygments_lexer": "ipython3",
   "version": "3.12.3"
  }
 },
 "nbformat": 4,
 "nbformat_minor": 5
}
