{
  "cells": [
    {
      "cell_type": "code",
      "source": [
        "!pip install torch torch_geometric"
      ],
      "metadata": {
        "id": "vG4LgT47_n8F",
        "outputId": "269be96e-b40e-457c-e985-63316bb4d685",
        "colab": {
          "base_uri": "https://localhost:8080/"
        }
      },
      "id": "vG4LgT47_n8F",
      "execution_count": 3,
      "outputs": [
        {
          "output_type": "stream",
          "name": "stdout",
          "text": [
            "Requirement already satisfied: torch in /usr/local/lib/python3.10/dist-packages (2.5.0+cu121)\n",
            "Collecting torch_geometric\n",
            "  Downloading torch_geometric-2.6.1-py3-none-any.whl.metadata (63 kB)\n",
            "\u001b[2K     \u001b[90m━━━━━━━━━━━━━━━━━━━━━━━━━━━━━━━━━━━━━━━━\u001b[0m \u001b[32m63.1/63.1 kB\u001b[0m \u001b[31m1.7 MB/s\u001b[0m eta \u001b[36m0:00:00\u001b[0m\n",
            "\u001b[?25hRequirement already satisfied: filelock in /usr/local/lib/python3.10/dist-packages (from torch) (3.16.1)\n",
            "Requirement already satisfied: typing-extensions>=4.8.0 in /usr/local/lib/python3.10/dist-packages (from torch) (4.12.2)\n",
            "Requirement already satisfied: networkx in /usr/local/lib/python3.10/dist-packages (from torch) (3.4.2)\n",
            "Requirement already satisfied: jinja2 in /usr/local/lib/python3.10/dist-packages (from torch) (3.1.4)\n",
            "Requirement already satisfied: fsspec in /usr/local/lib/python3.10/dist-packages (from torch) (2024.10.0)\n",
            "Requirement already satisfied: sympy==1.13.1 in /usr/local/lib/python3.10/dist-packages (from torch) (1.13.1)\n",
            "Requirement already satisfied: mpmath<1.4,>=1.1.0 in /usr/local/lib/python3.10/dist-packages (from sympy==1.13.1->torch) (1.3.0)\n",
            "Requirement already satisfied: aiohttp in /usr/local/lib/python3.10/dist-packages (from torch_geometric) (3.10.10)\n",
            "Requirement already satisfied: numpy in /usr/local/lib/python3.10/dist-packages (from torch_geometric) (1.26.4)\n",
            "Requirement already satisfied: psutil>=5.8.0 in /usr/local/lib/python3.10/dist-packages (from torch_geometric) (5.9.5)\n",
            "Requirement already satisfied: pyparsing in /usr/local/lib/python3.10/dist-packages (from torch_geometric) (3.2.0)\n",
            "Requirement already satisfied: requests in /usr/local/lib/python3.10/dist-packages (from torch_geometric) (2.32.3)\n",
            "Requirement already satisfied: tqdm in /usr/local/lib/python3.10/dist-packages (from torch_geometric) (4.66.6)\n",
            "Requirement already satisfied: aiohappyeyeballs>=2.3.0 in /usr/local/lib/python3.10/dist-packages (from aiohttp->torch_geometric) (2.4.3)\n",
            "Requirement already satisfied: aiosignal>=1.1.2 in /usr/local/lib/python3.10/dist-packages (from aiohttp->torch_geometric) (1.3.1)\n",
            "Requirement already satisfied: attrs>=17.3.0 in /usr/local/lib/python3.10/dist-packages (from aiohttp->torch_geometric) (24.2.0)\n",
            "Requirement already satisfied: frozenlist>=1.1.1 in /usr/local/lib/python3.10/dist-packages (from aiohttp->torch_geometric) (1.5.0)\n",
            "Requirement already satisfied: multidict<7.0,>=4.5 in /usr/local/lib/python3.10/dist-packages (from aiohttp->torch_geometric) (6.1.0)\n",
            "Requirement already satisfied: yarl<2.0,>=1.12.0 in /usr/local/lib/python3.10/dist-packages (from aiohttp->torch_geometric) (1.17.1)\n",
            "Requirement already satisfied: async-timeout<5.0,>=4.0 in /usr/local/lib/python3.10/dist-packages (from aiohttp->torch_geometric) (4.0.3)\n",
            "Requirement already satisfied: MarkupSafe>=2.0 in /usr/local/lib/python3.10/dist-packages (from jinja2->torch) (3.0.2)\n",
            "Requirement already satisfied: charset-normalizer<4,>=2 in /usr/local/lib/python3.10/dist-packages (from requests->torch_geometric) (3.4.0)\n",
            "Requirement already satisfied: idna<4,>=2.5 in /usr/local/lib/python3.10/dist-packages (from requests->torch_geometric) (3.10)\n",
            "Requirement already satisfied: urllib3<3,>=1.21.1 in /usr/local/lib/python3.10/dist-packages (from requests->torch_geometric) (2.2.3)\n",
            "Requirement already satisfied: certifi>=2017.4.17 in /usr/local/lib/python3.10/dist-packages (from requests->torch_geometric) (2024.8.30)\n",
            "Requirement already satisfied: propcache>=0.2.0 in /usr/local/lib/python3.10/dist-packages (from yarl<2.0,>=1.12.0->aiohttp->torch_geometric) (0.2.0)\n",
            "Downloading torch_geometric-2.6.1-py3-none-any.whl (1.1 MB)\n",
            "\u001b[2K   \u001b[90m━━━━━━━━━━━━━━━━━━━━━━━━━━━━━━━━━━━━━━━━\u001b[0m \u001b[32m1.1/1.1 MB\u001b[0m \u001b[31m18.8 MB/s\u001b[0m eta \u001b[36m0:00:00\u001b[0m\n",
            "\u001b[?25hInstalling collected packages: torch_geometric\n",
            "Successfully installed torch_geometric-2.6.1\n"
          ]
        }
      ]
    },
    {
      "cell_type": "code",
      "execution_count": 4,
      "id": "b2275cd5-bceb-4579-8140-369991bd42a5",
      "metadata": {
        "id": "b2275cd5-bceb-4579-8140-369991bd42a5"
      },
      "outputs": [],
      "source": [
        "import torch\n",
        "from torch_geometric.datasets import CoraFull\n",
        "from torch_geometric.data import DataLoader"
      ]
    },
    {
      "cell_type": "code",
      "execution_count": null,
      "id": "b2221090-4aca-49b3-a16b-ff9d85aec18e",
      "metadata": {
        "id": "b2221090-4aca-49b3-a16b-ff9d85aec18e"
      },
      "outputs": [],
      "source": [
        "dataset = CoraFull(root=\"cora\")\n",
        "data = dataset[0]\n",
        "loader = DataLoader(dataset, batch_size=32, shuffle=True)"
      ]
    },
    {
      "cell_type": "code",
      "source": [
        "for i in loader:\n",
        "  print(i)"
      ],
      "metadata": {
        "id": "hNLjwzrmnxai"
      },
      "id": "hNLjwzrmnxai",
      "execution_count": null,
      "outputs": []
    },
    {
      "cell_type": "code",
      "source": [
        "print(len(data.x[0]))"
      ],
      "metadata": {
        "id": "fEyfdo-5liXI",
        "outputId": "9c50f464-331d-46f6-d9ed-005cff84e0f8",
        "colab": {
          "base_uri": "https://localhost:8080/"
        }
      },
      "id": "fEyfdo-5liXI",
      "execution_count": 16,
      "outputs": [
        {
          "output_type": "stream",
          "name": "stdout",
          "text": [
            "8710\n"
          ]
        }
      ]
    },
    {
      "cell_type": "code",
      "execution_count": 12,
      "id": "0d38a6ff-5b1f-408b-a8e1-cf61a78bcf3a",
      "metadata": {
        "id": "0d38a6ff-5b1f-408b-a8e1-cf61a78bcf3a"
      },
      "outputs": [],
      "source": [
        "class MeanAggregator(torch.nn.Module):\n",
        "    def __init__(self, in_features, out_features):\n",
        "        super(MeanAggregator, self).__init__()\n",
        "        self.in_features = in_features\n",
        "        self.out_features = out_features\n",
        "\n",
        "        self.w = torch.nn.Parameter(torch.empty(2 * in_features, out_features))\n",
        "        torch.nn.init.xavier_uniform_(self.w)\n",
        "\n",
        "    def forward(self, input):\n",
        "        x, sampled_neighbors = input\n",
        "        neighbors_message = torch.mean(sampled_neighbors, dim=0)\n",
        "        message = torch.concat((x, neighbors_message), 0)\n",
        "        weighted_message = torch.matmul(message, self.w)\n",
        "        return weighted_message\n"
      ]
    },
    {
      "cell_type": "code",
      "execution_count": 15,
      "id": "5ec65953-f9ac-4c92-9a78-5463b6d624b5",
      "metadata": {
        "id": "5ec65953-f9ac-4c92-9a78-5463b6d624b5",
        "outputId": "74be90b3-d34a-4e60-bfae-be765d00eb0b",
        "colab": {
          "base_uri": "https://localhost:8080/"
        }
      },
      "outputs": [
        {
          "output_type": "stream",
          "name": "stdout",
          "text": [
            "tensor([-0.0869,  0.0195,  0.0427, -0.0564,  0.0246, -0.0850,  0.1004, -0.0087,\n",
            "        -0.0422, -0.0310, -0.0409,  0.0569,  0.1184, -0.1437,  0.1064,  0.0995,\n",
            "        -0.0651, -0.0767,  0.0711,  0.0344,  0.0578, -0.0241, -0.0252, -0.0801,\n",
            "        -0.0615,  0.1063, -0.0676,  0.0388,  0.0079,  0.0066, -0.0131,  0.0046,\n",
            "        -0.0476,  0.0988, -0.0233, -0.0020, -0.0111,  0.0297,  0.1292,  0.1216,\n",
            "        -0.0472, -0.0194, -0.0525,  0.0564, -0.0136, -0.0200, -0.0093,  0.0348,\n",
            "         0.1309,  0.0754, -0.0071,  0.1090,  0.0604, -0.0203,  0.0857,  0.0865,\n",
            "        -0.0518, -0.0902,  0.0694,  0.0117,  0.0668, -0.0811,  0.0598, -0.0071,\n",
            "        -0.0082, -0.0161, -0.1027,  0.1629, -0.0469, -0.0024],\n",
            "       grad_fn=<SqueezeBackward4>)\n"
          ]
        }
      ],
      "source": [
        "layer = MeanAggregator(len(data.x[0]), 70)\n",
        "node = data.x[0]\n",
        "node_neighbors = torch.stack([data.x[v] for u, v in zip(data.edge_index[0], data.edge_index[1]) if data.edge_index[0][u] == 0])\n",
        "print(layer((node, node_neighbors)))"
      ]
    },
    {
      "cell_type": "code",
      "source": [
        "dataset.y[2272]"
      ],
      "metadata": {
        "id": "0CxoqJOsAhV7",
        "outputId": "2209580a-9ede-4fbd-9688-6920b134c404",
        "colab": {
          "base_uri": "https://localhost:8080/"
        }
      },
      "id": "0CxoqJOsAhV7",
      "execution_count": 8,
      "outputs": [
        {
          "output_type": "execute_result",
          "data": {
            "text/plain": [
              "tensor(57)"
            ]
          },
          "metadata": {},
          "execution_count": 8
        }
      ]
    },
    {
      "cell_type": "code",
      "source": [
        "class GraphSAGE(torch.nn.Module):\n",
        "  def __init__(self):\n",
        "    super(GraphSAGE, self).__init__\n",
        "    self.aggregator_stack = torch.nn.Sequential(\n",
        "        MeanAggregator(8710, 1000),\n",
        "        torch.nn.ReLU(),\n",
        "        MeanAggregator(1000, 70),\n",
        "        torch.nn.ReLU(),\n",
        "    )\n",
        "\n",
        "  def forward(self, input):\n",
        "    logits = self.aggregator_stack(input)\n",
        "    return logits"
      ],
      "metadata": {
        "id": "BloP67VxhNxJ"
      },
      "id": "BloP67VxhNxJ",
      "execution_count": 17,
      "outputs": []
    },
    {
      "cell_type": "code",
      "source": [
        "model = GraphSAGE()\n",
        "model()"
      ],
      "metadata": {
        "id": "cV9OqXhZnLxY"
      },
      "id": "cV9OqXhZnLxY",
      "execution_count": 18,
      "outputs": []
    },
    {
      "cell_type": "code",
      "source": [
        "loss = torch.nn.CrossEntropyLoss()\n",
        "optimizer = torch.optim.Adam()"
      ],
      "metadata": {
        "id": "z-rD-Y4oBmaX",
        "outputId": "bcd0c042-1741-4ef5-eb95-0f6cf052ad06",
        "colab": {
          "base_uri": "https://localhost:8080/",
          "height": 162
        }
      },
      "id": "z-rD-Y4oBmaX",
      "execution_count": 10,
      "outputs": [
        {
          "output_type": "error",
          "ename": "TypeError",
          "evalue": "Adam.__init__() missing 1 required positional argument: 'params'",
          "traceback": [
            "\u001b[0;31m---------------------------------------------------------------------------\u001b[0m",
            "\u001b[0;31mTypeError\u001b[0m                                 Traceback (most recent call last)",
            "\u001b[0;32m<ipython-input-10-fe98a45324ec>\u001b[0m in \u001b[0;36m<cell line: 2>\u001b[0;34m()\u001b[0m\n\u001b[1;32m      1\u001b[0m \u001b[0mloss\u001b[0m \u001b[0;34m=\u001b[0m \u001b[0mtorch\u001b[0m\u001b[0;34m.\u001b[0m\u001b[0mnn\u001b[0m\u001b[0;34m.\u001b[0m\u001b[0mCrossEntropyLoss\u001b[0m\u001b[0;34m(\u001b[0m\u001b[0;34m)\u001b[0m\u001b[0;34m\u001b[0m\u001b[0;34m\u001b[0m\u001b[0m\n\u001b[0;32m----> 2\u001b[0;31m \u001b[0moptimizer\u001b[0m \u001b[0;34m=\u001b[0m \u001b[0mtorch\u001b[0m\u001b[0;34m.\u001b[0m\u001b[0moptim\u001b[0m\u001b[0;34m.\u001b[0m\u001b[0mAdam\u001b[0m\u001b[0;34m(\u001b[0m\u001b[0;34m)\u001b[0m\u001b[0;34m\u001b[0m\u001b[0;34m\u001b[0m\u001b[0m\n\u001b[0m",
            "\u001b[0;31mTypeError\u001b[0m: Adam.__init__() missing 1 required positional argument: 'params'"
          ]
        }
      ]
    },
    {
      "cell_type": "code",
      "source": [],
      "metadata": {
        "id": "63rdOjdunKoF"
      },
      "id": "63rdOjdunKoF",
      "execution_count": null,
      "outputs": []
    },
    {
      "cell_type": "code",
      "source": [],
      "metadata": {
        "id": "sax7DL9sgpv1"
      },
      "id": "sax7DL9sgpv1",
      "execution_count": null,
      "outputs": []
    }
  ],
  "metadata": {
    "kernelspec": {
      "display_name": "Python 3 (ipykernel)",
      "language": "python",
      "name": "python3"
    },
    "language_info": {
      "codemirror_mode": {
        "name": "ipython",
        "version": 3
      },
      "file_extension": ".py",
      "mimetype": "text/x-python",
      "name": "python",
      "nbconvert_exporter": "python",
      "pygments_lexer": "ipython3",
      "version": "3.12.3"
    },
    "colab": {
      "provenance": []
    }
  },
  "nbformat": 4,
  "nbformat_minor": 5
}